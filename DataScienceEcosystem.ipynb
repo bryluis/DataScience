{
 "cells": [
  {
   "cell_type": "markdown",
   "id": "a78d23e1-c8a7-411e-bd9f-4281b1ef866a",
   "metadata": {},
   "source": [
    "# Data Science Tools and Ecosystem"
   ]
  },
  {
   "cell_type": "markdown",
   "id": "6a301df6-7c56-4f85-a077-36886385b939",
   "metadata": {},
   "source": [
    "In this notebook, Data Science Tools and Ecosystem are summarized."
   ]
  },
  {
   "cell_type": "markdown",
   "id": "d54e4308-e51e-42f0-9440-ea40a8a4e105",
   "metadata": {},
   "source": [
    "**Objectives:**\n",
    "- List of popular languages for Data Science\n",
    "- List of popular tools for Data Science\n",
    "- Learning about various libraries, APIs, Datasets, and Models "
   ]
  },
  {
   "cell_type": "markdown",
   "id": "bf1848c4-eeaa-4d09-959c-b1128933317c",
   "metadata": {
    "tags": []
   },
   "source": [
    "Some of the popular languages that Data Scientists use are:\n",
    "1. R\n",
    "2. Python\n",
    "3. SQL"
   ]
  },
  {
   "cell_type": "markdown",
   "id": "024731a1-9cbb-4ba5-85de-870a842be41f",
   "metadata": {},
   "source": [
    "Some of the commonly used libraries used by Data Scientists include: \n",
    "1. Pandas\n",
    "2. NumPy\n",
    "3. Matplotlib"
   ]
  },
  {
   "cell_type": "markdown",
   "id": "b64a2c0e-eb5b-40d6-862c-02c34600313f",
   "metadata": {
    "tags": []
   },
   "source": [
    "|Data Science Tools|\n",
    "|---|\n",
    "|Jupyter Notebook|\n",
    "|Anaconda|\n",
    "|R Studio|"
   ]
  },
  {
   "cell_type": "markdown",
   "id": "bad67b13-9ccc-4b12-bbaa-a9beddf5fe40",
   "metadata": {},
   "source": [
    "### Below are a few examples of evaluating arithmetic expressions in Python"
   ]
  },
  {
   "cell_type": "code",
   "execution_count": 7,
   "id": "75a7defa-568f-45af-b152-c5294f081d20",
   "metadata": {
    "tags": []
   },
   "outputs": [
    {
     "data": {
      "text/plain": [
       "17"
      ]
     },
     "execution_count": 7,
     "metadata": {},
     "output_type": "execute_result"
    }
   ],
   "source": [
    "# This is a simple arithmetic expression to multiply then add integers\n",
    "\n",
    "(3*4)+5"
   ]
  },
  {
   "cell_type": "code",
   "execution_count": 8,
   "id": "2a3adb41-603c-47e1-9eb9-e38eb70271ba",
   "metadata": {
    "tags": []
   },
   "outputs": [
    {
     "data": {
      "text/plain": [
       "3.3333333333333335"
      ]
     },
     "execution_count": 8,
     "metadata": {},
     "output_type": "execute_result"
    }
   ],
   "source": [
    "# This will convert 200 minutes to hours by dividing by 60\n",
    "\n",
    "200/60"
   ]
  },
  {
   "cell_type": "markdown",
   "id": "1aa5857e-2b43-4ada-8ab2-4ef9896aaaa6",
   "metadata": {
    "tags": []
   },
   "source": [
    "# Author\n",
    "Brian Luis"
   ]
  },
  {
   "cell_type": "code",
   "execution_count": null,
   "id": "e8ed249c-a201-4905-a25d-51be0a1f419b",
   "metadata": {},
   "outputs": [],
   "source": []
  }
 ],
 "metadata": {
  "kernelspec": {
   "display_name": "Python",
   "language": "python",
   "name": "conda-env-python-py"
  },
  "language_info": {
   "codemirror_mode": {
    "name": "ipython",
    "version": 3
   },
   "file_extension": ".py",
   "mimetype": "text/x-python",
   "name": "python",
   "nbconvert_exporter": "python",
   "pygments_lexer": "ipython3",
   "version": "3.7.12"
  }
 },
 "nbformat": 4,
 "nbformat_minor": 5
}
